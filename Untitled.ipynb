{
 "cells": [
  {
   "cell_type": "code",
   "execution_count": 1,
   "id": "0bbf1ea7-6745-486e-9fd5-403267bd3904",
   "metadata": {},
   "outputs": [
    {
     "name": "stdout",
     "output_type": "stream",
     "text": [
      "Nama : dedi\n",
      "Umur : 20\n",
      "Alamat : jl. cibolang\n",
      "Nilai Pemrograman : (80, 5)\n",
      "Status Menikah : False\n"
     ]
    }
   ],
   "source": [
    "name = \"dedi\"\n",
    "age = 20\n",
    "address, province = \"jl. cibolang\", \"7413412\"\n",
    "scorePython = 80,5\n",
    "isMarried = False\n",
    "\n",
    "print (\"Nama :\" , name)\n",
    "print (\"Umur :\", age)\n",
    "print (\"Alamat :\" , address)\n",
    "print (\"Nilai Pemrograman :\" , scorePython)\n",
    "print (\"Status Menikah :\" , isMarried)"
   ]
  },
  {
   "cell_type": "code",
   "execution_count": 3,
   "id": "fada2574-ce27-47e9-ad3c-5871ecdbb37a",
   "metadata": {},
   "outputs": [
    {
     "name": "stdout",
     "output_type": "stream",
     "text": [
      "Tipe Data <nama>  <class 'str'>\n",
      "Tipe Data <age> <class 'int'>\n",
      "Tipe Data <address> <class 'str'>\n",
      "Type Data  <province> <class 'str'>\n",
      "Type Data <ScorePython> <class 'tuple'>\n",
      "Tipe Data <isMarried> <class 'bool'>\n"
     ]
    }
   ],
   "source": [
    "print(\"Tipe Data <nama> \",type(name))\n",
    "print(\"Tipe Data <age>\", type (age))\n",
    "print(\"Tipe Data <address>\",type(address))\n",
    "print(\"Type Data  <province>\", type(province))\n",
    "print(\"Type Data <ScorePython>\", type(scorePython))\n",
    "print(\"Tipe Data <isMarried>\", type(isMarried))"
   ]
  },
  {
   "cell_type": "code",
   "execution_count": 5,
   "id": "c41116af-2951-4756-bfc0-e38156f74892",
   "metadata": {},
   "outputs": [
    {
     "name": "stdout",
     "output_type": "stream",
     "text": [
      "7413412_7413412.0_True\n",
      "20_20.0_True\n",
      "20_20_True\n",
      "False00.0\n"
     ]
    }
   ],
   "source": [
    "#casting atau konversi Tipe Data\n",
    "#Konversi dari String ke (int,float,bool)\n",
    "strToInt = int(province)\n",
    "strTofloat = float(province)\n",
    "strTobool = bool(province)\n",
    "print (strToInt, strTofloat, strTobool, sep=\"_\")\n",
    "#konversi dari int ke(str,float,bool)\n",
    "intTostr = str(age)\n",
    "intTofloat = float(age)\n",
    "intTobool = bool(age)\n",
    "print(intTostr, intTofloat,intTobool, sep=\"_\")\n",
    "#konversi dari float ke (int,str,bool)\n",
    "floatTostr = str(age)\n",
    "floatToint = int(age)\n",
    "floatTobool = bool(age)\n",
    "print(floatTostr,floatToint,floatTobool, sep=\"_\")\n",
    "#konversi dari bool ke (str,int,float)\n",
    "boolTostr = str(isMarried)\n",
    "boolToint = int(isMarried)\n",
    "boolTofloat = float(isMarried)\n",
    "print(boolTostr, boolToint, boolTofloat, sep = \"\")"
   ]
  },
  {
   "cell_type": "code",
   "execution_count": 7,
   "id": "bc1105a1-2f4f-4a48-9268-795f5a149019",
   "metadata": {},
   "outputs": [
    {
     "name": "stdout",
     "output_type": "stream",
     "text": [
      "M\n",
      "r\n"
     ]
    }
   ],
   "source": [
    "city = \"Makasar\"\n",
    "lenCity = len(city)\n",
    "print(city [0])\n",
    "print(city[lenCity-1])"
   ]
  },
  {
   "cell_type": "code",
   "execution_count": 9,
   "id": "a6bb758d-ac6f-41d7-9a27-67ae2133fb98",
   "metadata": {},
   "outputs": [
    {
     "name": "stdout",
     "output_type": "stream",
     "text": [
      "Nilai Desimal : 200\n",
      "Nilai Desimal Dari 0xff : 255\n",
      "Nilai Desiimal Dari 0b1010 : 10\n",
      "Nilai Desimal Dari 0o77 : 255\n",
      "==================================\n",
      "Nilai Biner Dari : 200 0b11001000\n",
      "Nilai Octa Dari : 200 0o310\n",
      "Nilai Hexa Dari ; 200 0xc8\n"
     ]
    }
   ],
   "source": [
    "desimal = 200\n",
    "hexa = 0xff\n",
    "biner = 0b1010\n",
    "octal = 0o377\n",
    "\n",
    "print (\"Nilai Desimal :\", desimal)\n",
    "print(\"Nilai Desimal Dari 0xff :\", hexa)\n",
    "print(\"Nilai Desiimal Dari 0b1010 :\", biner)\n",
    "print (\"Nilai Desimal Dari 0o77 :\", octal)\n",
    "print(\"==================================\")\n",
    "print(\"Nilai Biner Dari :\", desimal, bin(desimal))\n",
    "print(\"Nilai Octa Dari :\", desimal, oct(desimal))\n",
    "print(\"Nilai Hexa Dari ;\", desimal, hex(desimal))"
   ]
  },
  {
   "cell_type": "code",
   "execution_count": 27,
   "id": "8fb27fd1-b021-4e95-8d31-459f3f172f8e",
   "metadata": {},
   "outputs": [
    {
     "name": "stdout",
     "output_type": "stream",
     "text": [
      "['Sukabumi', 'Bandung', 'Bogor', 'Jakarta']\n",
      "Sukabumi\n",
      "Jakarta\n",
      "['Sukabumi', 'Medan', 'Bogor', 'Jakarta']\n",
      "J\n",
      "('Andi', 'Alun', 'jajang')\n",
      "{'name': 'Dedi', 'address': {'street': 'Manchester', 'Number': 17, 'Province': 'london'}, 'age': 23, 'isMarried': True}\n",
      "london\n"
     ]
    },
    {
     "ename": "IndexError",
     "evalue": "tuple index out of range",
     "output_type": "error",
     "traceback": [
      "\u001b[1;31m---------------------------------------------------------------------------\u001b[0m",
      "\u001b[1;31mIndexError\u001b[0m                                Traceback (most recent call last)",
      "Cell \u001b[1;32mIn[27], line 53\u001b[0m\n\u001b[0;32m     51\u001b[0m \u001b[38;5;28mprint\u001b[39m(studentData)\n\u001b[0;32m     52\u001b[0m \u001b[38;5;28mprint\u001b[39m(studentData[\u001b[38;5;124m\"\u001b[39m\u001b[38;5;124maddress\u001b[39m\u001b[38;5;124m\"\u001b[39m][\u001b[38;5;124m\"\u001b[39m\u001b[38;5;124mProvince\u001b[39m\u001b[38;5;124m\"\u001b[39m])\u001b[38;5;66;03m#london\u001b[39;00m\n\u001b[1;32m---> 53\u001b[0m \u001b[38;5;28mprint\u001b[39m(listStudent[\u001b[38;5;241m1\u001b[39m]) \u001b[38;5;66;03m#semua data dari john\u001b[39;00m\n\u001b[0;32m     54\u001b[0m \u001b[38;5;28mprint\u001b[39m(listStudent[\u001b[38;5;241m0\u001b[39m][\u001b[38;5;124m\"\u001b[39m\u001b[38;5;124mhobbies\u001b[39m\u001b[38;5;124m\"\u001b[39m][\u001b[38;5;241m1\u001b[39m]) \u001b[38;5;66;03m#football - hobi dedi urutan ke 2\u001b[39;00m\n\u001b[0;32m     55\u001b[0m \u001b[38;5;28mprint\u001b[39m(listStudent[\u001b[38;5;241m0\u001b[39m][\u001b[38;5;124m\"\u001b[39m\u001b[38;5;124mage\u001b[39m\u001b[38;5;124m\"\u001b[39m])\n",
      "\u001b[1;31mIndexError\u001b[0m: tuple index out of range"
     ]
    }
   ],
   "source": [
    "#tipe data collection\n",
    "cities = [\"Sukabumi\", \"Bandung\", \"Bogor\", \"Jakarta\"]\n",
    "print(cities)\n",
    "print(cities[0])\n",
    "print(cities[len(cities)-1])\n",
    "cities[1]= \"Medan\"\n",
    "print (cities)\n",
    "print(cities[len(cities)-1][0])\n",
    "\n",
    "##tuple\n",
    "names = (\"Andi\",\"Alun\",\"jajang\")\n",
    "print(names)\n",
    "#names[0]=\"Andi\" akan menyebabkan error' karena tuple adalah immutable\n",
    "\n",
    "studentData = {\n",
    "    \"name\" : \"Dedi\",\n",
    "    \"address\" : {\n",
    "        \"street\" : \"Manchester\",\n",
    "        \"Number\" : 17,\n",
    "        \"Province\" : \"london\"\n",
    "    },\n",
    "    \n",
    "    \"age\" : 23,\n",
    "    \"isMarried\" : True\n",
    "}\n",
    "#list of dictionery\n",
    "listStudent = {\n",
    "     \"name\" : \"Dedi\",\n",
    "    \"address\" : {\n",
    "        \"street\" : \"Manchester\",\n",
    "        \"Number\" : 20,\n",
    "        \"Province\" : \"london\"\n",
    "    },\n",
    "    \"hobbies\": [\"Basket\",  \"Football\"],\n",
    "    \"age\" : 23,\n",
    "    \"isMarried\" : True\n",
    "    \n",
    "},\n",
    "{\n",
    "     \"name\" : \"john\",\n",
    "    \"address\" : {\n",
    "        \"street\" : \"italy\",\n",
    "        \"Number\" : 45,\n",
    "        \"Province\" : \"milan\"\n",
    "    },\n",
    "    \n",
    "    \"age\" : 34,\n",
    "    \"isMarried\" : False\n",
    "}\n",
    "\n",
    "print(studentData)\n",
    "print(studentData[\"address\"][\"Province\"])#london\n",
    "print(listStudent[1]) #semua data dari john\n",
    "print(listStudent[0][\"hobbies\"][1]) #football - hobi dedi urutan ke 2\n",
    "print(listStudent[0][\"age\"])#23 - Umur Dedi"
   ]
  },
  {
   "cell_type": "code",
   "execution_count": 23,
   "id": "c0fbb5cb-4d37-4bb9-88f8-4569fa94a57e",
   "metadata": {},
   "outputs": [
    {
     "name": "stdout",
     "output_type": "stream",
     "text": [
      "{'name': 'dika', 'nilai': 90}\n",
      "{'buah': 'apel', 'harga': 10000}\n",
      "{'man unt': 'manchester is red', 'city': 'stay huble eh'}\n",
      "{'motor': 'beat', 'perbulan': '500000'}\n"
     ]
    }
   ],
   "source": [
    "#casting dictionary\n",
    "list_tuple = (\"name\", \"dika\"), (\"nilai\", 90)\n",
    "dictStudent = dict(list_tuple)\n",
    "print(dictStudent)\n",
    "list_list =  [[\"buah\", \"apel\"], [\"harga\",10000]]\n",
    "dictBuah = dict(list_list)\n",
    "print(dictBuah)\n",
    "\n",
    "tuple_tuple = ((\"man unt\",\"manchester is red\"), (\"city\", \"stay huble eh\"))\n",
    "dictManchester = dict(tuple_tuple)\n",
    "print(dictManchester)\n",
    "\n",
    "tuple_list =  ([\"motor\",\"beat\"],[\"perbulan\", \"500000\"])\n",
    "dictHargamotor = dict(tuple_list)\n",
    "print(dictHargamotor)"
   ]
  },
  {
   "cell_type": "code",
   "execution_count": null,
   "id": "e9af4bc7-9c4c-4529-a674-20d2ac8e7b7c",
   "metadata": {},
   "outputs": [],
   "source": []
  }
 ],
 "metadata": {
  "kernelspec": {
   "display_name": "Python [conda env:base] *",
   "language": "python",
   "name": "conda-base-py"
  },
  "language_info": {
   "codemirror_mode": {
    "name": "ipython",
    "version": 3
   },
   "file_extension": ".py",
   "mimetype": "text/x-python",
   "name": "python",
   "nbconvert_exporter": "python",
   "pygments_lexer": "ipython3",
   "version": "3.12.7"
  }
 },
 "nbformat": 4,
 "nbformat_minor": 5
}
