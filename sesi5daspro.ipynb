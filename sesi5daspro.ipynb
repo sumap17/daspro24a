{
 "cells": [
  {
   "cell_type": "code",
   "execution_count": 1,
   "id": "185e072a-7345-460e-b794-55f215e2059b",
   "metadata": {},
   "outputs": [
    {
     "name": "stdin",
     "output_type": "stream",
     "text": [
      "Isikan Nama Anda :  sukma\n"
     ]
    },
    {
     "name": "stdout",
     "output_type": "stream",
     "text": [
      "Selamat Datang sukma\n",
      "123Andi0Budi\n"
     ]
    }
   ],
   "source": [
    "name = input(\"Isikan Nama Anda : \")\n",
    "print(\"Selamat Datang\" , name) #menggabungkan variabel dengan string\n",
    "print(\"1\",end='') #mencetak disamping karakter\n",
    "print(\"2\",end='')\n",
    "print(\"3\",end='')\n",
    "\n",
    "#sparator\n",
    "print(\"Andi\",\"Budi\",sep=\"0\")"
   ]
  },
  {
   "cell_type": "code",
   "execution_count": 3,
   "id": "e1ef4b8f-161c-4a54-a4d2-ddf6c56d589a",
   "metadata": {},
   "outputs": [
    {
     "name": "stdin",
     "output_type": "stream",
     "text": [
      "isikan bilangan 1 :  12\n",
      "isikan bilangan 2 :  21\n"
     ]
    },
    {
     "name": "stdout",
     "output_type": "stream",
     "text": [
      "hasil penjumlahan  12 + 21 = 33\n",
      "hasil penjumlahan 12 + 21 = 33\n"
     ]
    }
   ],
   "source": [
    "val1 = int(input(\"isikan bilangan 1 : \"))\n",
    "val2 = int(input(\"isikan bilangan 2 : \"))\n",
    "#hasil penjumlahan 3 + 4 = 7\n",
    "print(\"hasil penjumlahan \", val1, \"+\",val2,\"=\", val1+val2 )\n",
    "#string format menggunakan tanda{}\n",
    "print(\"hasil penjumlahan {} + {} = {}\". format (val1,val2,val1+val2))"
   ]
  },
  {
   "cell_type": "code",
   "execution_count": 7,
   "id": "c0a22945-f622-45cc-84f9-5d3fd4e6022b",
   "metadata": {},
   "outputs": [
    {
     "name": "stdin",
     "output_type": "stream",
     "text": [
      "isikan Nama depan :  sukma\n",
      "isikan nama tengah :  sumap\n",
      "isikan nama belakang :  praja\n"
     ]
    },
    {
     "name": "stdout",
     "output_type": "stream",
     "text": [
      "Nama Anda : sukma sumap praja \n",
      "Nama Anda : sukma sumap praja\n",
      "Nama Anda : sukma sumap praja\n"
     ]
    }
   ],
   "source": [
    "fName = input(\"isikan Nama depan : \")\n",
    "mName = input(\"isikan nama tengah : \")\n",
    "lName = input(\"isikan nama belakang : \")\n",
    "print (\"Nama Anda : {} {} {} \". format(fName, mName, lName))\n",
    "#menggunakan index\n",
    "print(\"Nama Anda : {0} {1} {2}\". format(fName, mName, lName))\n",
    "#menggunakan key\n",
    "print(\"Nama Anda : {depan} {tengah} {belakang}\". format (belakang = lName, depan=fName, tengah = mName))"
   ]
  },
  {
   "cell_type": "code",
   "execution_count": 9,
   "id": "5bcccde7-37b2-480e-920d-9cb8ebcca296",
   "metadata": {},
   "outputs": [
    {
     "name": "stdin",
     "output_type": "stream",
     "text": [
      "isikan nama kampus anda:  nusa putra\n"
     ]
    },
    {
     "name": "stdout",
     "output_type": "stream",
     "text": [
      "n\n",
      "nusa \n",
      "a\n",
      "usa putra\n"
     ]
    }
   ],
   "source": [
    "univercity = input (\"isikan nama kampus anda: \")\n",
    "#mencetak karakter pertama\n",
    "print(univercity[0])\n",
    "#mencetak karakter pertama sampai ke 5\n",
    "print(univercity[0:5])\n",
    "#mencetak karakter paling akhir\n",
    "print(univercity[-1])\n",
    "#mencetak karakter ke 2 sampai selesai\n",
    "print(univercity[1:])"
   ]
  },
  {
   "cell_type": "code",
   "execution_count": 17,
   "id": "0e929eb4-10de-4174-afa0-5fe4b101ab42",
   "metadata": {},
   "outputs": [
    {
     "name": "stdin",
     "output_type": "stream",
     "text": [
      "isikan nama lengkap :  sukma sumap praja\n"
     ]
    },
    {
     "name": "stdout",
     "output_type": "stream",
     "text": [
      "Nama depan  sukma\n",
      "nama tengah sumap\n",
      "nama belakang praja\n",
      "nama anda adalah sukma sumap praja\n",
      "5\n"
     ]
    }
   ],
   "source": [
    "fullName = input (\"isikan nama lengkap : \")\n",
    "#split untuk memisahkan string berdasarkan karakter tertentu\n",
    "name = fullName. split(' ')\n",
    "print(\"Nama depan \",name[0])\n",
    "print(\"nama tengah\", name[1])\n",
    "print(\"nama belakang\", name[2])\n",
    "#print fstring\n",
    "print(f\"nama anda adalah {fullName}\") #sering digunakan\n",
    "#find untuk mencari karakter dalam string\n",
    "#jika ditemukan akan mengembalikan posisi index\n",
    "#jika tidak ditemukan mengembalikan nilai -1\n",
    "platMobil = \"N7865BB\"\n",
    "print(platMobil.find(\"B\"))"
   ]
  },
  {
   "cell_type": "code",
   "execution_count": 19,
   "id": "2abf3d36-352e-494f-94b4-63823966e17b",
   "metadata": {},
   "outputs": [
    {
     "name": "stdin",
     "output_type": "stream",
     "text": [
      "Isikan email :  sumap@gmail.com\n"
     ]
    },
    {
     "name": "stdout",
     "output_type": "stream",
     "text": [
      "posisi '@' :  5\n",
      "posisi '.' :  11\n",
      "Email valid\n"
     ]
    }
   ],
   "source": [
    "email = input(\"Isikan email : \")\n",
    "cek1 = email.find(\"@\")\n",
    "cek2 = email.find(\".\")\n",
    "print(\"posisi '@' : \", cek1)\n",
    "print(\"posisi '.' : \", cek2)\n",
    "cekValid = \"Email valid\" if cek1 > -1 and cek2 > -1 and cek1 < cek2 else \"tidak valid\"\n",
    "print(cekValid)"
   ]
  },
  {
   "cell_type": "code",
   "execution_count": 25,
   "id": "5321fa1f-99c2-4698-a0de-03e0c8d535d8",
   "metadata": {},
   "outputs": [
    {
     "name": "stdout",
     "output_type": "stream",
     "text": [
      "Hasil dari nilai acak adalah 0.3685644449720177\n",
      "Hasil dari nilai acak bulat adalah 66\n",
      "hasil dari acak bulan adalah nov\n",
      "hasil dari acak bulan adalah ['mon', 1]\n",
      "berapakah 42 - 34 : \n"
     ]
    },
    {
     "name": "stdin",
     "output_type": "stream",
     "text": [
      "isikan hasilnya : 8\n"
     ]
    },
    {
     "name": "stdout",
     "output_type": "stream",
     "text": [
      "salah\n",
      "Anda benar !!!\n"
     ]
    }
   ],
   "source": [
    "from random import random\n",
    "nilai = random()\n",
    "print(f\"Hasil dari nilai acak adalah {nilai}\")\n",
    "\n",
    "from random import randint\n",
    "nilaiInt = randint(0,100)\n",
    "print(f\"Hasil dari nilai acak bulat adalah {nilaiInt}\")\n",
    "\n",
    "from random import choice\n",
    "month = [\"jan\",\"feb\",\"mar\",\"apr\",\"may\", \"jun\", \"jul\",\"aug\", \"sep\", \"oct\", \"nov\",\"des\"]\n",
    "day = [[\"mon\",1],[\"tue\", 2],[\"wed\",3],[\"thu\",4],[\"fri\", 5], [\"sat\",6],[\"sun\",7]]\n",
    "\n",
    "month = choice(month)\n",
    "day = choice(day)\n",
    "print(f\"hasil dari acak bulan adalah {month}\")\n",
    "print(f\"hasil dari acak bulan adalah {day}\")\n",
    "\n",
    "from random import randint, choice\n",
    "nilai1 = randint(0,100)\n",
    "nilai2 = randint(0,100)\n",
    "operator = [\"+\",\"-\", \"*\",\"/\"]\n",
    "sOperator = choice(operator)\n",
    "print(f\"berapakah {nilai1} {sOperator} {nilai2} : \")\n",
    "jawab = int(input(\"isikan hasilnya :\"))\n",
    "cekjawab = \"benar\" if jawab == nilai1 + nilai2 else \"salah\" \n",
    "print(cekjawab)\n",
    "#if else\n",
    "if sOperator == \"+\" :\n",
    "    cekjawab = \"Anda benar !!!\" if jawab == nilai1 + nilai2 else \"Anda salah !!\"\n",
    "elif sOperator == \"-\" :\n",
    "    cekjawab = \"Anda benar !!!\" if jawab == nilai1 - nilai2 else \"Anda salah !!\"\n",
    "elif sOperator == \"*\" :\n",
    "    cekjawab = \"Anda benar !!!\" if jawab == nilai1 * nilai2 else \"Anda salah !!\"\n",
    "elif sOperator == \"/\" :\n",
    "    cekjawab = \"Anda benar !!!\" if jawab == nilai1 / nilai2 else \"Anda salah !!\"\n",
    "print(cekjawab)"
   ]
  },
  {
   "cell_type": "code",
   "execution_count": 37,
   "id": "41419338-cf24-407b-9494-7a58a363ba40",
   "metadata": {},
   "outputs": [
    {
     "name": "stdin",
     "output_type": "stream",
     "text": [
      "eng->ind (1) , ind->eng (2) 1\n"
     ]
    },
    {
     "name": "stdout",
     "output_type": "stream",
     "text": [
      "apa arti dari drink?\n"
     ]
    },
    {
     "name": "stdin",
     "output_type": "stream",
     "text": [
      "isikan jawaban:  minum\n"
     ]
    },
    {
     "name": "stdout",
     "output_type": "stream",
     "text": [
      "anda benar!!\n"
     ]
    }
   ],
   "source": [
    "from random import choice\n",
    "kamus = [[\"makan\",\"eat\"],[\"minum\",\"drink\"],[\"membaca\",\"reading\"],[\"berenang\",\"swim\"]]\n",
    "skamus = choice(kamus)\n",
    "pilihan = int(input(\"eng->ind (1) , ind->eng (2)\"))\n",
    "if pilihan == 1:\n",
    "    print(f\"apa arti dari {skamus [1]}?\")\n",
    "    jawab = input(\"isikan jawaban: \")\n",
    "    cektranslet = \"anda benar!!\" if jawab.lower() == skamus[0] else \"anda salah\"\n",
    "elif pilihan ==2:\n",
    "    print(f\"apa bahasa inggris dari {skamus [0]}?\")\n",
    "    cektranslet = \"anda benar!!\" if jawab.lower()==skamus[1] else \"anda salah!\"\n",
    "\n",
    "print(cektranslet)"
   ]
  },
  {
   "cell_type": "code",
   "execution_count": null,
   "id": "5666dbc5-384f-4498-b5ed-d150e73ffe84",
   "metadata": {},
   "outputs": [],
   "source": []
  }
 ],
 "metadata": {
  "kernelspec": {
   "display_name": "Python [conda env:base] *",
   "language": "python",
   "name": "conda-base-py"
  },
  "language_info": {
   "codemirror_mode": {
    "name": "ipython",
    "version": 3
   },
   "file_extension": ".py",
   "mimetype": "text/x-python",
   "name": "python",
   "nbconvert_exporter": "python",
   "pygments_lexer": "ipython3",
   "version": "3.12.7"
  }
 },
 "nbformat": 4,
 "nbformat_minor": 5
}
