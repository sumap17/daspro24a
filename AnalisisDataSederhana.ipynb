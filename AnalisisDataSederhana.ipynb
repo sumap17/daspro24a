{
 "cells": [
  {
   "cell_type": "markdown",
   "id": "15d25488",
   "metadata": {},
   "source": [
    "# Analisis Data Sederhana"
   ]
  },
  {
   "cell_type": "code",
   "execution_count": 23,
   "id": "4b844207",
   "metadata": {},
   "outputs": [
    {
     "name": "stdout",
     "output_type": "stream",
     "text": [
      "              umur    pendapatan  jumlah_anak  penggunaan_internet_per_hari  \\\n",
      "count  1000.000000  1.000000e+03  1000.000000                   1000.000000   \n",
      "mean     38.745000  5.013096e+06     1.996000                      4.404362   \n",
      "std      12.186734  1.542063e+06     1.417743                      2.058624   \n",
      "min      18.000000 -3.523079e+05     0.000000                      1.004393   \n",
      "25%      28.000000  4.026515e+06     1.000000                      2.576980   \n",
      "50%      40.000000  5.041039e+06     2.000000                      4.396410   \n",
      "75%      50.000000  6.098754e+06     3.000000                      6.141166   \n",
      "max      59.000000  9.712950e+06     4.000000                      7.993346   \n",
      "\n",
      "       memiliki_kendaraan  \n",
      "count         1000.000000  \n",
      "mean             0.511000  \n",
      "std              0.500129  \n",
      "min              0.000000  \n",
      "25%              0.000000  \n",
      "50%              1.000000  \n",
      "75%              1.000000  \n",
      "max              1.000000  \n",
      "jenis_kelamin\n",
      "Pria      516\n",
      "Wanita    484\n",
      "Name: count, dtype: int64\n",
      "status_pernikahan\n",
      "Lajang     507\n",
      "Menikah    493\n",
      "Name: count, dtype: int64\n",
      "                                  umur  pendapatan  jumlah_anak  \\\n",
      "umur                          1.000000   -0.038524     0.010775   \n",
      "pendapatan                   -0.038524    1.000000    -0.097624   \n",
      "jumlah_anak                   0.010775   -0.097624     1.000000   \n",
      "penggunaan_internet_per_hari  0.065347    0.046229    -0.003273   \n",
      "memiliki_kendaraan            0.000379    0.003903     0.017003   \n",
      "\n",
      "                              penggunaan_internet_per_hari  memiliki_kendaraan  \n",
      "umur                                              0.065347            0.000379  \n",
      "pendapatan                                        0.046229            0.003903  \n",
      "jumlah_anak                                      -0.003273            0.017003  \n",
      "penggunaan_internet_per_hari                      1.000000            0.014439  \n",
      "memiliki_kendaraan                                0.014439            1.000000  \n"
     ]
    }
   ],
   "source": [
    "import pandas as pd\n",
    "import numpy as np\n",
    "\n",
    "# Buat data simulasi\n",
    "np.random.seed(42)\n",
    "df = pd.DataFrame({\n",
    "    'umur': np.random.randint(18, 60, 1000),\n",
    "    'pendapatan': np.random.normal(5000000, 1500000, 1000),\n",
    "    'jenis_kelamin': np.random.choice(['Pria', 'Wanita'], 1000),\n",
    "    'status_pernikahan': np.random.choice(['Lajang', 'Menikah'], 1000),\n",
    "    'jumlah_anak': np.random.randint(0, 5, 1000),\n",
    "    'tingkat_pendidikan': np.random.choice(['SMA', 'D3', 'S1', 'S2'], 1000),\n",
    "    'provinsi': np.random.choice(['Jabar', 'Jatim', 'Jateng', 'DKI', 'Bali'], 1000),\n",
    "    'penggunaan_internet_per_hari': np.random.uniform(1, 8, 1000),\n",
    "    'memiliki_kendaraan': np.random.choice([0, 1], 1000),\n",
    "    'target_klasifikasi': np.random.choice(['Ya', 'Tidak'], 1000)\n",
    "})\n",
    "\n",
    "\n",
    "# Statistik deskriptif\n",
    "print(data.describe())\n",
    "\n",
    "# Distribusi kategorikal\n",
    "print(data['jenis_kelamin'].value_counts())\n",
    "print(data['status_pernikahan'].value_counts())\n",
    "\n",
    "# Korelasi antar variabel numerik\n",
    "print(data.corr(numeric_only=True))\n",
    "\n",
    "# Simpan ke CSV\n",
    "df.to_csv('sample_data_sederhana.csv', index=False)"
   ]
  },
  {
   "cell_type": "markdown",
   "id": "8bc2302a",
   "metadata": {},
   "source": [
    "## Menampilkan Seluruh Data"
   ]
  },
  {
   "cell_type": "code",
   "execution_count": null,
   "id": "bb8edcf8-333f-4018-81fc-ef57e6d75f85",
   "metadata": {},
   "outputs": [],
   "source": [
    "# Menampilkan seluruh data\n",
    "pd.set_option('display.max_rows', None)\n",
    "pd.set_option('display.max_columns', None)\n",
    "data"
   ]
  }
 ],
 "metadata": {
  "kernelspec": {
   "display_name": "Python [conda env:base] *",
   "language": "python",
   "name": "conda-base-py"
  },
  "language_info": {
   "codemirror_mode": {
    "name": "ipython",
    "version": 3
   },
   "file_extension": ".py",
   "mimetype": "text/x-python",
   "name": "python",
   "nbconvert_exporter": "python",
   "pygments_lexer": "ipython3",
   "version": "3.12.7"
  }
 },
 "nbformat": 4,
 "nbformat_minor": 5
}
