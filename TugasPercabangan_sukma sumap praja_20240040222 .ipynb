{
 "cells": [
  {
   "cell_type": "markdown",
   "id": "5854a90d-e435-44ae-9e31-3bc520e011b1",
   "metadata": {
    "id": "5854a90d-e435-44ae-9e31-3bc520e011b1"
   },
   "source": [
    "Buatlah program yang meminta pengguna memasukkan usia seseorang, lalu tentukan apakah dia <br>\n",
    "anak-anak (0-12 tahun), remaja (13-17 tahun), dewasa (18-59 tahun), atau lansia (60 tahun ke atas)."
   ]
  },
  {
   "cell_type": "code",
   "execution_count": 48,
   "id": "75a2fdcd-1ef1-45e4-9d79-c6a7cb708a18",
   "metadata": {
    "id": "75a2fdcd-1ef1-45e4-9d79-c6a7cb708a18"
   },
   "outputs": [
    {
     "name": "stdin",
     "output_type": "stream",
     "text": [
      "Masukkan Usia:  20\n"
     ]
    },
    {
     "name": "stdout",
     "output_type": "stream",
     "text": [
      "Kategori usia: Dewasa\n"
     ]
    }
   ],
   "source": [
    "usia = int(input(\"Masukkan Usia: \"))\n",
    "\n",
    "if 0 <= usia <= 12:\n",
    "    kategori = \"Anak-Anak\"\n",
    "elif 13 <= usia <= 17:\n",
    "    kategori = \"Remaja\"\n",
    "elif 18 <= usia <= 59:\n",
    "    kategori = \"Dewasa\"\n",
    "elif usia >= 60:\n",
    "    kategori = \"Lansia\"\n",
    "else:\n",
    "    kategori = \"Usia Tidak Valid\"\n",
    "\n",
    "print(f\"Kategori usia: {kategori}\")"
   ]
  },
  {
   "cell_type": "markdown",
   "id": "68c95835-e4ad-4bd0-89ca-168200893cf7",
   "metadata": {
    "id": "68c95835-e4ad-4bd0-89ca-168200893cf7"
   },
   "source": [
    "Sebuah taman hiburan memiliki aturan harga tiket berdasarkan usia:\n",
    "<ol>\n",
    "<li>Anak-anak (0-12 tahun): Rp 10.000</li>\n",
    "<li>Remaja (13-17 tahun): Rp 15.000</li>\n",
    "<li>Dewasa (18-59 tahun): Rp 25.000</li>\n",
    "<li>Lansia (60 tahun ke atas): Gratis</li>\n",
    "</ol>\n",
    "Buat program untuk menentukan harga tiket berdasarkan usia yang dimasukkan pengguna dan total harga yang harus dibayar, jika terdapat 3 input seperti berikut ini"
   ]
  },
  {
   "cell_type": "code",
   "execution_count": 50,
   "id": "66ee699f-8355-48e0-939a-dcc73ba4425b",
   "metadata": {
    "id": "66ee699f-8355-48e0-939a-dcc73ba4425b"
   },
   "outputs": [
    {
     "name": "stdin",
     "output_type": "stream",
     "text": [
      "Isikan Umur Tiket 1: 6\n",
      "Isikan Umur Tiket 2:  13\n",
      "Isikan Umur Tiket 3:  20\n"
     ]
    },
    {
     "name": "stdout",
     "output_type": "stream",
     "text": [
      "Total harga yang harus dibayar: Rp 50000\n"
     ]
    }
   ],
   "source": [
    "tiket1 = int(input(\"Isikan Umur Tiket 1:\"))\n",
    "tiket2 = int(input(\"Isikan Umur Tiket 2: \"))\n",
    "tiket3 = int(input(\"Isikan Umur Tiket 3: \"))\n",
    "\n",
    "def HitungHargaTiket(usia) :\n",
    "    if 0 <= usia <= 12:\n",
    "        return 10000\n",
    "    elif 13 <= usia <= 17:\n",
    "        return 15000\n",
    "    elif 18 <= usia <= 59:\n",
    "        return 25000\n",
    "    elif usia >= 60:\n",
    "        return 0\n",
    "    else :\n",
    "        return None\n",
    "\n",
    "tiket1 = HitungHargaTiket(tiket1)\n",
    "tiket2 = HitungHargaTiket(tiket2)\n",
    "tiket3 = HitungHargaTiket(tiket3)\n",
    "\n",
    "TotalHarga = 0\n",
    "if tiket1 is not None:\n",
    "    TotalHarga += tiket1\n",
    "if tiket2 is not None:\n",
    "    TotalHarga += tiket2\n",
    "if tiket3 is not None:\n",
    "    TotalHarga += tiket3\n",
    "\n",
    "print(f\"Total harga yang harus dibayar: Rp {TotalHarga}\")"
   ]
  },
  {
   "cell_type": "markdown",
   "id": "82eac646-d930-42f5-a253-03f84c32f943",
   "metadata": {
    "id": "82eac646-d930-42f5-a253-03f84c32f943"
   },
   "source": [
    "Sebuah restoran memiliki diskon khusus:\n",
    "Anak-anak (0-12 tahun) diskon 50%\n",
    "Lansia (60 tahun ke atas) diskon 30%\n",
    "Selain itu, tidak ada diskon\n",
    "Buat program untuk menghitung harga yang harus dibayar setelah diskon diberikan."
   ]
  },
  {
   "cell_type": "code",
   "execution_count": 52,
   "id": "feb31fca-fce6-4e5f-a25f-8752e7a0033b",
   "metadata": {
    "id": "feb31fca-fce6-4e5f-a25f-8752e7a0033b"
   },
   "outputs": [
    {
     "name": "stdin",
     "output_type": "stream",
     "text": [
      "Masukkan usia:  11\n",
      "Masukkan harga makanan:  50000\n"
     ]
    },
    {
     "name": "stdout",
     "output_type": "stream",
     "text": [
      "Harga yang harus dibayar setelah diskon: Rp 25000.00\n"
     ]
    }
   ],
   "source": [
    "usia = int(input(\"Masukkan usia: \"))\n",
    "hargaMakanan = float(input(\"Masukkan harga makanan: \"))\n",
    "def hitungHargaSetelahDiskon(usia, hargaMakanan):\n",
    "     if 0 <= usia <= 12:\n",
    "        return hargaMakanan* 0.5 \n",
    "     elif usia >= 60:\n",
    "        return hargaMakanan * 0.7 \n",
    "     else:\n",
    "        return hargaMakanan \n",
    "\n",
    "\n",
    "# Menghitung harga setelah diskon\n",
    "hargaSetelahDiskon = hitungHargaSetelahDiskon(usia, hargaMakanan)\n",
    "\n",
    "print(f\"Harga yang harus dibayar setelah diskon: Rp {hargaSetelahDiskon:.2f}\")\n"
   ]
  },
  {
   "cell_type": "markdown",
   "id": "aee8bab3-9bf1-4732-97e1-7abb32ce7184",
   "metadata": {
    "id": "aee8bab3-9bf1-4732-97e1-7abb32ce7184"
   },
   "source": [
    "Program beasiswa:\n",
    "<ol>\n",
    "<li>Jika nilai rapor ≥ 90 dan penghasilan orang tua < Rp 5.000.000 → Beasiswa Penuh</li>\n",
    "<li>Jika nilai rapor ≥ 85 dan penghasilan orang tua < Rp 8.000.000 → Beasiswa 50%</li>\n",
    "<li>Jika tidak memenuhi syarat di atas → Tidak mendapatkan beasiswa</li>\n",
    "</ol>"
   ]
  },
  {
   "cell_type": "code",
   "execution_count": 54,
   "id": "55a9ec4f-531b-4326-bca3-e0d19b4be47d",
   "metadata": {
    "id": "55a9ec4f-531b-4326-bca3-e0d19b4be47d"
   },
   "outputs": [
    {
     "name": "stdin",
     "output_type": "stream",
     "text": [
      "Masukkan nilai rapor:  95\n",
      "Masukkan penghasilan orang tua:  5000000\n"
     ]
    },
    {
     "name": "stdout",
     "output_type": "stream",
     "text": [
      "Hasil: Beasiswa 50%\n"
     ]
    }
   ],
   "source": [
    "nilaiRapor = float(input(\"Masukkan nilai rapor: \"))\n",
    "penghasilan = float(input(\"Masukkan penghasilan orang tua: \"))\n",
    "def tentukanBeasiswa(nilaiRapor, penghasilan):\n",
    "    if nilaiRapor >= 90 and penghasilan < 5000000:\n",
    "        return \"Beasiswa Penuh\"\n",
    "    elif nilaiRapor >= 85 and penghasilan < 8000000:\n",
    "        return \"Beasiswa 50%\"\n",
    "    else:\n",
    "        return \"Tidak mendapatkan beasiswa\"\n",
    "\n",
    "\n",
    "\n",
    "hasilBeasiswa = tentukanBeasiswa(nilaiRapor, penghasilan)\n",
    "\n",
    "print(f\"Hasil: {hasilBeasiswa}\")"
   ]
  },
  {
   "cell_type": "markdown",
   "id": "57ea9062-e1af-4650-8eab-a47a01a9d04f",
   "metadata": {
    "id": "57ea9062-e1af-4650-8eab-a47a01a9d04f"
   },
   "source": [
    "Suatu aplikasi streaming memiliki batasan usia:\n",
    "<ol>\n",
    "<li>Film Semua Umur: Bisa ditonton oleh siapa saja</li>\n",
    "<li>Film Remaja: Hanya untuk usia ≥ 13 tahun</li>\n",
    "<li>Film Dewasa: Hanya untuk usia ≥ 18 tahun</li>\n",
    "</ol>\n",
    "Buat program yang meminta input usia dan kategori film, lalu tentukan apakah seseorang boleh menonton film tersebut atau tidak."
   ]
  },
  {
   "cell_type": "code",
   "execution_count": 56,
   "id": "2c00f464-3390-4c94-9ec2-4b63c55b871b",
   "metadata": {
    "id": "2c00f464-3390-4c94-9ec2-4b63c55b871b"
   },
   "outputs": [
    {
     "name": "stdin",
     "output_type": "stream",
     "text": [
      "Masukkan usia:  20\n",
      "Masukkan kategori film (Semua Umur/Remaja/Dewasa):  Dewasa\n"
     ]
    },
    {
     "name": "stdout",
     "output_type": "stream",
     "text": [
      "Hasil: Boleh menonton\n"
     ]
    }
   ],
   "source": [
    "usia = int(input(\"Masukkan usia: \"))\n",
    "kategoriFilm = input(\"Masukkan kategori film (Semua Umur/Remaja/Dewasa): \")\n",
    "\n",
    "def bolehMenonton(usia, kategoriFilm):\n",
    "    if kategoriFilm == \"Semua Umur\":\n",
    "        return \"Boleh menonton\"\n",
    "    elif kategoriFilm == \"Remaja\" and usia >= 13:\n",
    "        return \"Boleh menonton\"\n",
    "    elif kategoriFilm == \"Dewasa\" and usia >= 18:\n",
    "        return \"Boleh menonton\"\n",
    "    else:\n",
    "        return \"Tidak boleh menonton\"\n",
    "\n",
    "\n",
    "\n",
    "hasil = bolehMenonton(usia, kategoriFilm)\n",
    "\n",
    "print(f\"Hasil: {hasil}\")"
   ]
  },
  {
   "cell_type": "markdown",
   "id": "7b87c04c-85f0-4dc1-a14a-f67d8b2c4e6a",
   "metadata": {
    "id": "7b87c04c-85f0-4dc1-a14a-f67d8b2c4e6a"
   },
   "source": [
    "Sebuah toko memberikan diskon berdasarkan jumlah pembelian:\n",
    "<ol>\n",
    "<li>Jika total belanja ≥ Rp 500.000 → Diskon 20%</li>\n",
    "<li>Jika total belanja ≥ Rp 250.000 → Diskon 10%</li>\n",
    "<li>Jika total belanja < Rp 250.000 → Tidak ada diskon</li>\n",
    "</ol>\n",
    "Hitung harga akhir setelah diskon."
   ]
  },
  {
   "cell_type": "code",
   "execution_count": 58,
   "id": "966923a0-c87b-4559-8fc1-3090d448ad4a",
   "metadata": {
    "id": "966923a0-c87b-4559-8fc1-3090d448ad4a"
   },
   "outputs": [
    {
     "name": "stdin",
     "output_type": "stream",
     "text": [
      "Masukkan total belanja:  300000\n"
     ]
    },
    {
     "name": "stdout",
     "output_type": "stream",
     "text": [
      "Harga yang harus dibayar setelah diskon: Rp 270000.00\n"
     ]
    }
   ],
   "source": [
    "totalBelanja = float(input(\"Masukkan total belanja: \"))\n",
    "def hitungHargaSetelahDiskon(totalBelanja):\n",
    "    if totalBelanja >= 500000:\n",
    "        return totalBelanja * 0.8\n",
    "    elif totalBelanja >= 250000:\n",
    "        return totalBelanja * 0.9\n",
    "    else:\n",
    "        return totalBelanja\n",
    "\n",
    "\n",
    "\n",
    "hargaAkhir = hitungHargaSetelahDiskon(totalBelanja)\n",
    "\n",
    "print(f\"Harga yang harus dibayar setelah diskon: Rp {hargaAkhir:.2f}\")"
   ]
  },
  {
   "cell_type": "markdown",
   "id": "88e22629-48cc-4917-86e7-2bf4df863182",
   "metadata": {
    "id": "88e22629-48cc-4917-86e7-2bf4df863182"
   },
   "source": [
    "Program parkir:\n",
    "<ol>\n",
    "<li>Mobil: Rp 5.000 per jam</li>\n",
    "<li>Motor: Rp 2.000 per jam</li>\n",
    "<li>Jika parkir lebih dari 5 jam, ada biaya tambahan Rp 10.000</li>\n",
    "</ol>\n",
    "Hitung total biaya parkir berdasarkan jenis kendaraan dan durasi parkir."
   ]
  },
  {
   "cell_type": "code",
   "execution_count": 60,
   "id": "b8f7b918-70a1-4a88-945f-406c4aafbec7",
   "metadata": {
    "id": "b8f7b918-70a1-4a88-945f-406c4aafbec7"
   },
   "outputs": [
    {
     "name": "stdin",
     "output_type": "stream",
     "text": [
      "Masukkan jenis kendaraan (Mobil/Motor):  Motor\n",
      "Masukkan durasi parkir (jam):  5\n"
     ]
    },
    {
     "name": "stdout",
     "output_type": "stream",
     "text": [
      "Total biaya parkir: Rp 10000\n"
     ]
    }
   ],
   "source": [
    "jenisKendaraan = input(\"Masukkan jenis kendaraan (Mobil/Motor): \")\n",
    "durasi = int(input(\"Masukkan durasi parkir (jam): \"))\n",
    "def hitungBiayaParkir(jenisKendaraan, durasi):\n",
    "    if jenisKendaraan == \"Mobil\":\n",
    "        tarifPerJam = 5000\n",
    "    elif jenisKendaraan == \"Motor\":\n",
    "        tarifPerJam = 2000\n",
    "    else:\n",
    "        return \"Jenis kendaraan tidak valid\"\n",
    "    \n",
    "    totalBiaya = tarifPerJam * durasi\n",
    "    \n",
    "    if durasi > 5:\n",
    "        totalBiaya += 10000  # Biaya tambahan jika lebih dari 5 jam\n",
    "    \n",
    "    return totalBiaya\n",
    "\n",
    "\n",
    "totalBiaya = hitungBiayaParkir(jenisKendaraan, durasi)\n",
    "\n",
    "print(f\"Total biaya parkir: Rp {totalBiaya}\")\n"
   ]
  },
  {
   "cell_type": "markdown",
   "id": "2db1d34c-3f80-4f8c-aaf2-910c38c05414",
   "metadata": {
    "id": "2db1d34c-3f80-4f8c-aaf2-910c38c05414"
   },
   "source": [
    "Aplikasi transportasi online memiliki tarif sebagai berikut:\n",
    "<ol>\n",
    "<li>Jika jarak ≤ 5 km → Rp 5.000/km</li>\n",
    "<li>Jika jarak 6-10 km → Rp 4.000/km</li>\n",
    "<li>Jika jarak > 10 km → Rp 3.000/km</li>\n",
    "</ol>\n",
    "Hitung tarif perjalanan berdasarkan jarak yang dimasukkan pengguna.\n"
   ]
  },
  {
   "cell_type": "code",
   "execution_count": 62,
   "id": "5a5b719e-76f6-4f45-a8e4-07853113ce9e",
   "metadata": {
    "id": "5a5b719e-76f6-4f45-a8e4-07853113ce9e"
   },
   "outputs": [
    {
     "name": "stdin",
     "output_type": "stream",
     "text": [
      "Masukkan jarak perjalanan (km):  6\n"
     ]
    },
    {
     "name": "stdout",
     "output_type": "stream",
     "text": [
      "Total tarif perjalanan: Rp 24000.0\n"
     ]
    }
   ],
   "source": [
    "jarak = float(input(\"Masukkan jarak perjalanan (km): \"))\n",
    "def hitungTarifTransportasi(jarak):\n",
    "    if jarak <= 5:\n",
    "        tarifPerKm = 5000\n",
    "    elif 6 <= jarak <= 10:\n",
    "        tarifPerKm = 4000\n",
    "    else:\n",
    "        tarifPerKm = 3000\n",
    "    \n",
    "    totalTarif = tarifPerKm * jarak\n",
    "    return totalTarif\n",
    "\n",
    "\n",
    "\n",
    "totalTarif = hitungTarifTransportasi(jarak)\n",
    "\n",
    "print(f\"Total tarif perjalanan: Rp {totalTarif}\")\n"
   ]
  },
  {
   "cell_type": "markdown",
   "id": "d1cf7b61-e309-40ec-b1fd-4bc56550a10d",
   "metadata": {
    "id": "d1cf7b61-e309-40ec-b1fd-4bc56550a10d"
   },
   "source": [
    "Buatlah sebuah sistem penerimaan calon programmer yang akan menerima dua nilai ( nilai coding dan nilai interview). Untuk penilaian test coding skala penilaian yang diberikan dimulai dari 0 hingga 100 dengan sistem penilaian:\n",
    "<ol>\n",
    "<li>ketika seseorang mendapatkan nilai lebih dari 80 maka peserta tersebut akan mendapatkan hasil tes LOLOS</li>\n",
    "<li>ketika sesorang mendapatkan nilai diantara 60 hingga 80 maka peserta tersebut mendapatkan hasil tes DIPERTIMBANGKAN</li>\n",
    "<li>ketika seseorang mendapatkan nilai dibawah 60 maka peserta tersebut mendapatkan hasil tes GAGAL.</li>\n",
    "</ol>\n",
    "\n",
    "Sedangkan untuk penilaian interview adalah\n",
    "<ol>\n",
    "<li>ketika nilai yang diberikan kepada seseorang tersebut adalah \"A\" atau \"B\" maka peserta tersebut dianggap LOLOS interview</li>\n",
    "\n",
    "<li>selain kedua nilai tersebut maka peserta dianggap GAGAL tes interview.</li>\n",
    "</ol>\n",
    "\n",
    "Ketika calon programmer mendapatkan nilai coding LOLOS atau DIPERTIMBANGKAN dan juga LOLOS test interview maka tampilkanlah pesan \"Selamat Kamu Berhasil Menjadi Calon Programmer\". Jika tidak maka tampilkanlah pesan \"Maaf Kamu Belum Berhasil Menjadi Calon Programmer\""
   ]
  },
  {
   "cell_type": "code",
   "execution_count": 64,
   "id": "7aeb0f89-e957-4c0d-a29c-139fc269e1c0",
   "metadata": {
    "id": "7aeb0f89-e957-4c0d-a29c-139fc269e1c0"
   },
   "outputs": [
    {
     "name": "stdin",
     "output_type": "stream",
     "text": [
      "Masukan nilai coding:  89\n",
      "Masukan nilai interview (A/B/C/D):  A\n"
     ]
    },
    {
     "name": "stdout",
     "output_type": "stream",
     "text": [
      "Selamat anda lolos menjadi programmer\n"
     ]
    }
   ],
   "source": [
    "NilaiCoding = float(input(\"Masukan nilai coding: \"))\n",
    "NilaiInterview = input(\"Masukan nilai interview (A/B/C/D): \").upper()\n",
    "def EvaluasiNilaiCoding(NilaiCoding):\n",
    "    if NilaiCoding > 80:\n",
    "        return \"LOLOS\"\n",
    "    elif 60 <= NilaiCoding <= 80:\n",
    "        return \"DIPERTIMBANGKAN\"\n",
    "    else:\n",
    "        return\"GAGAL\"\n",
    "\n",
    "def EvaluasiNilaiInterview(NilaiInterview):\n",
    "    if NilaiInterview in [\"A\", \"B\"]:\n",
    "        return \"LOLOS\"\n",
    "    else:\n",
    "        return \"GAGAL\"\n",
    "\n",
    "HasilCoding = EvaluasiNilaiCoding(NilaiCoding)\n",
    "HasilInterview = EvaluasiNilaiInterview(NilaiInterview)\n",
    "\n",
    "if (HasilCoding == \"LOLOS\" or HasilCoding == \"DIPERYIMBANGKAN\") and HasilInterview == \"LOLOS\":\n",
    "    print(\"Selamat anda lolos menjadi programmer\")\n",
    "else:\n",
    "    print(\"Maaf anda belum berhasil lolos\")"
   ]
  },
  {
   "cell_type": "markdown",
   "id": "364647af-075b-4bc0-8c83-4c816415ff74",
   "metadata": {
    "id": "364647af-075b-4bc0-8c83-4c816415ff74"
   },
   "source": [
    "Sebuah klub sepak bola “PERSEGI FC” mempunyai aturan dalam memberikan nomor punggung bagi para pemainnya. Para pemain diperbolehkan mempunyai posisi lebih dari 1. Berikut adalah beberapa\n",
    "aturannya:\n",
    "<ol>\n",
    "<li>Untuk nomor punggung genap, digunakan untuk posisi “target attacker”</li>\n",
    "<li>Untuk nomor punggung genap antara 50 – 100, digunakan untuk pemain yang “berhak dipilih menjadi capten team”</li>\n",
    "<li>Untuk nomor punggung ganjil, digunakan untuk posisi “defender”</li>\n",
    "<li>Untuk nomor punggung ganjil lebih dari 90, digunakan untuk posisi “Playmaker”</li>\n",
    "<li>Untuk nomor punggung ganjil kelipatan dari 3 dan 5, digunakan untuk posisi “keeper”</li>\n",
    "</ol>\n",
    "Buatlah program untuk melakukan pengecekan sebuah nomor punggung dapat berfungsi sebagai posisi apa saja."
   ]
  },
  {
   "cell_type": "code",
   "execution_count": 66,
   "id": "2d1d5589-126b-44e3-9d9e-1bed865ff65c",
   "metadata": {
    "id": "2d1d5589-126b-44e3-9d9e-1bed865ff65c"
   },
   "outputs": [
    {
     "name": "stdin",
     "output_type": "stream",
     "text": [
      "Masukkan nomor punggung:  7\n"
     ]
    },
    {
     "name": "stdout",
     "output_type": "stream",
     "text": [
      "Nomor punggung 7 berhak menempati posisi: Defender\n"
     ]
    }
   ],
   "source": [
    "NomorPunggung = int(input(\"Masukkan nomor punggung: \"))\n",
    "def CekPosisiNomorPunggung(nomor):\n",
    "    Posisi = []\n",
    "    \n",
    "    if nomor % 2 == 0:\n",
    "        Posisi.append(\"Target Attacker\")\n",
    "        if 50 <= nomor <= 100:\n",
    "            Posisi.append(\"Berhak Dipilih Menjadi Kapten Team\")\n",
    "    else:\n",
    "        Posisi.append(\"Defender\")\n",
    "        if nomor > 90:\n",
    "            Posisi.append(\"Playmaker\")\n",
    "        if nomor % 3 == 0 and nomor % 5 == 0:\n",
    "            Posisi.append(\"Keeper\")\n",
    "    \n",
    "    return Posisi\n",
    "\n",
    "# Mengecek posisi yang sesuai\n",
    "PosisiPemain = CekPosisiNomorPunggung(NomorPunggung)\n",
    "\n",
    "if PosisiPemain:\n",
    "    print(f\"Nomor punggung {NomorPunggung} berhak menempati posisi: {', '.join(PosisiPemain)}\")\n",
    "else:\n",
    "    print(f\"Nomor punggung {NomorPunggung} tidak memiliki posisi yang sesuai.\")\n"
   ]
  },
  {
   "cell_type": "code",
   "execution_count": null,
   "id": "2607043f-de25-447e-b34e-2517a4e914fc",
   "metadata": {},
   "outputs": [],
   "source": []
  }
 ],
 "metadata": {
  "colab": {
   "provenance": []
  },
  "kernelspec": {
   "display_name": "Python [conda env:base] *",
   "language": "python",
   "name": "conda-base-py"
  },
  "language_info": {
   "codemirror_mode": {
    "name": "ipython",
    "version": 3
   },
   "file_extension": ".py",
   "mimetype": "text/x-python",
   "name": "python",
   "nbconvert_exporter": "python",
   "pygments_lexer": "ipython3",
   "version": "3.12.7"
  }
 },
 "nbformat": 4,
 "nbformat_minor": 5
}
