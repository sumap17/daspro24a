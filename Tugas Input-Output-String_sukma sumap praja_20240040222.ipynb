{
 "cells": [
  {
   "cell_type": "markdown",
   "id": "cbad16c5-dc47-4809-bc17-bee055a43513",
   "metadata": {},
   "source": [
    "1. biodata sederhana"
   ]
  },
  {
   "cell_type": "code",
   "execution_count": 29,
   "id": "f47bf78e-66f4-4f97-b6e6-80557d0f8beb",
   "metadata": {},
   "outputs": [
    {
     "name": "stdin",
     "output_type": "stream",
     "text": [
      "masukan nama :  sumap\n",
      "masukan umur :  20\n",
      "masukan alamat :  salabintana, sukabumi\n"
     ]
    },
    {
     "name": "stdout",
     "output_type": "stream",
     "text": [
      "\n",
      "=== biodata ===\n",
      "nama: sumap\n",
      "umur: 20\n",
      "alamat: salabintana, sukabumi \n"
     ]
    }
   ],
   "source": [
    "nama = input(\"masukan nama : \")\n",
    "umur = input(\"masukan umur : \")\n",
    "alamat = input(\"masukan alamat : \")\n",
    "biodata = \"nama: {}\\numur: {}\\nalamat: {} \".format(nama, umur, alamat)\n",
    "print(\"\\n=== biodata ===\")\n",
    "print(biodata)"
   ]
  },
  {
   "cell_type": "markdown",
   "id": "cce8aa79-1df2-42bf-953f-40b00bdebcb1",
   "metadata": {},
   "source": [
    "2. kalimat \"UNIVERSITAS NUSA PUTRA SUKABUMI\""
   ]
  },
  {
   "cell_type": "code",
   "execution_count": 27,
   "id": "bd843c79-d8eb-4427-8a23-a41f0dcb850d",
   "metadata": {},
   "outputs": [
    {
     "name": "stdout",
     "output_type": "stream",
     "text": [
      "\n",
      "hasil : \n",
      "a. putra nusa\n",
      "b. NIVERSITAS NSA PTRA SKABMI\n",
      "c. SUKABUMI PUTRA NUSA UNIVERSITAS\n",
      "d. UNPS\n",
      "e. TAS SAPU BUMI\n"
     ]
    }
   ],
   "source": [
    "kalimat = \"UNIVERSITAS NUSA PUTRA SUKABUMI\"\n",
    "# a. menampilkan output: putra nusa\n",
    "split_kalimat = kalimat.split()\n",
    "output_a = f\"{split_kalimat[2].lower()} {split_kalimat[1].lower()}\"\n",
    "print(\"\\nhasil : \" )\n",
    "print(f\"a. {output_a}\")\n",
    "\n",
    "# b. menampilkan output : NIVERSITAS NSA PTRA SKABMI\n",
    "output_b = \" \".join([word.replace(\"U\" , \"\").replace(\"u\" , \"\") for word in split_kalimat])\n",
    "print(f\"b. {output_b}\")\n",
    "\n",
    "# c. menampilkan output : SUKABUMI PUTRA NUSA UNIVERSITAS\n",
    "output_c = \" \".join(split_kalimat[::-1])\n",
    "print(f\"c. {output_c}\")\n",
    "\n",
    "# d. menampilkan output : UNPS\n",
    "output_d = ''.join([menampilkan[0] for menampilkan in kalimat.split()])\n",
    "print(f\"d. {output_d}\")\n",
    "\n",
    "# e. menampilkan output : TAS SAPU BUMI\n",
    "tas = split_kalimat[0][8:11]\n",
    "sa = split_kalimat[1][2:5]\n",
    "pu = split_kalimat[2][0:2]\n",
    "bumi = split_kalimat[3][4:8]\n",
    "output_e = tas + \" \" + sa + pu + \" \" + bumi\n",
    "print(f\"e. {output_e}\")"
   ]
  },
  {
   "cell_type": "code",
   "execution_count": null,
   "id": "2ba997cf-9730-48e3-a69d-8570e50309e4",
   "metadata": {},
   "outputs": [],
   "source": []
  }
 ],
 "metadata": {
  "kernelspec": {
   "display_name": "Python [conda env:base] *",
   "language": "python",
   "name": "conda-base-py"
  },
  "language_info": {
   "codemirror_mode": {
    "name": "ipython",
    "version": 3
   },
   "file_extension": ".py",
   "mimetype": "text/x-python",
   "name": "python",
   "nbconvert_exporter": "python",
   "pygments_lexer": "ipython3",
   "version": "3.12.7"
  }
 },
 "nbformat": 4,
 "nbformat_minor": 5
}
